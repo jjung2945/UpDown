{
 "cells": [
  {
   "cell_type": "code",
   "execution_count": 1,
   "metadata": {},
   "outputs": [],
   "source": [
    "import pandas as pd\n",
    "import glob\n",
    "txtfiles = []\n",
    "for file in glob.glob(\"/Users/jaeheukjung/Documents/Stocks/*.txt\"):\n",
    "    txtfiles.append(file)"
   ]
  },
  {
   "cell_type": "code",
   "execution_count": 2,
   "metadata": {},
   "outputs": [],
   "source": [
    "import os\n",
    "import glob\n",
    "import pandas as pd\n",
    "os.chdir(\"/Users/jaeheukjung/Documents/Stocks\")"
   ]
  },
  {
   "cell_type": "code",
   "execution_count": 3,
   "metadata": {},
   "outputs": [],
   "source": [
    "all_filenames = [i for i in glob.glob('*.{}'.format('txt'))]"
   ]
  },
  {
   "cell_type": "code",
   "execution_count": 7,
   "metadata": {},
   "outputs": [],
   "source": [
    "list_of_df = []"
   ]
  },
  {
   "cell_type": "code",
   "execution_count": 8,
   "metadata": {},
   "outputs": [
    {
     "data": {
      "text/plain": [
       "7194"
      ]
     },
     "execution_count": 8,
     "metadata": {},
     "output_type": "execute_result"
    }
   ],
   "source": [
    "len(all_filenames)"
   ]
  },
  {
   "cell_type": "code",
   "execution_count": 5,
   "metadata": {},
   "outputs": [
    {
     "data": {
      "text/html": [
       "<div>\n",
       "<style scoped>\n",
       "    .dataframe tbody tr th:only-of-type {\n",
       "        vertical-align: middle;\n",
       "    }\n",
       "\n",
       "    .dataframe tbody tr th {\n",
       "        vertical-align: top;\n",
       "    }\n",
       "\n",
       "    .dataframe thead th {\n",
       "        text-align: right;\n",
       "    }\n",
       "</style>\n",
       "<table border=\"1\" class=\"dataframe\">\n",
       "  <thead>\n",
       "    <tr style=\"text-align: right;\">\n",
       "      <th></th>\n",
       "      <th>Date</th>\n",
       "      <th>Open</th>\n",
       "      <th>High</th>\n",
       "      <th>Low</th>\n",
       "      <th>Close</th>\n",
       "      <th>Volume</th>\n",
       "      <th>OpenInt</th>\n",
       "    </tr>\n",
       "  </thead>\n",
       "  <tbody>\n",
       "    <tr>\n",
       "      <td>0</td>\n",
       "      <td>2005-02-25</td>\n",
       "      <td>12.868</td>\n",
       "      <td>12.982</td>\n",
       "      <td>12.834</td>\n",
       "      <td>12.834</td>\n",
       "      <td>15928</td>\n",
       "      <td>0</td>\n",
       "    </tr>\n",
       "    <tr>\n",
       "      <td>1</td>\n",
       "      <td>2005-02-28</td>\n",
       "      <td>13.536</td>\n",
       "      <td>13.536</td>\n",
       "      <td>13.273</td>\n",
       "      <td>13.281</td>\n",
       "      <td>16382</td>\n",
       "      <td>0</td>\n",
       "    </tr>\n",
       "    <tr>\n",
       "      <td>2</td>\n",
       "      <td>2005-03-01</td>\n",
       "      <td>13.185</td>\n",
       "      <td>13.299</td>\n",
       "      <td>13.185</td>\n",
       "      <td>13.299</td>\n",
       "      <td>1250</td>\n",
       "      <td>0</td>\n",
       "    </tr>\n",
       "    <tr>\n",
       "      <td>3</td>\n",
       "      <td>2005-03-02</td>\n",
       "      <td>13.361</td>\n",
       "      <td>13.395</td>\n",
       "      <td>13.273</td>\n",
       "      <td>13.291</td>\n",
       "      <td>8760</td>\n",
       "      <td>0</td>\n",
       "    </tr>\n",
       "    <tr>\n",
       "      <td>4</td>\n",
       "      <td>2005-03-03</td>\n",
       "      <td>13.361</td>\n",
       "      <td>13.404</td>\n",
       "      <td>12.966</td>\n",
       "      <td>13.218</td>\n",
       "      <td>9897</td>\n",
       "      <td>0</td>\n",
       "    </tr>\n",
       "  </tbody>\n",
       "</table>\n",
       "</div>"
      ],
      "text/plain": [
       "         Date    Open    High     Low   Close  Volume  OpenInt\n",
       "0  2005-02-25  12.868  12.982  12.834  12.834   15928        0\n",
       "1  2005-02-28  13.536  13.536  13.273  13.281   16382        0\n",
       "2  2005-03-01  13.185  13.299  13.185  13.299    1250        0\n",
       "3  2005-03-02  13.361  13.395  13.273  13.291    8760        0\n",
       "4  2005-03-03  13.361  13.404  12.966  13.218    9897        0"
      ]
     },
     "execution_count": 5,
     "metadata": {},
     "output_type": "execute_result"
    }
   ],
   "source": [
    "test_df = pd.read_csv(all_filenames[0])\n",
    "test_df.head()"
   ]
  },
  {
   "cell_type": "code",
   "execution_count": 9,
   "metadata": {},
   "outputs": [],
   "source": [
    "def create_df (i):\n",
    "    my_df = pd.read_csv(all_filenames[i])\n",
    "    list_of_df.append(my_df)"
   ]
  },
  {
   "cell_type": "code",
   "execution_count": 10,
   "metadata": {},
   "outputs": [],
   "source": [
    "nanlist = [137,1077, 1150,1905, 2089,2163, 2448, 2507, 2841, 2896, 2977,3196,3345, 3418, 3795, 3979, 4134, 4374, 4459, 4665, 4896, 5334,5839, 5964,6240,6296,6650,6755,6828,7078,7128]"
   ]
  },
  {
   "cell_type": "code",
   "execution_count": 11,
   "metadata": {},
   "outputs": [],
   "source": [
    "for i in range(0, len(all_filenames)):\n",
    "    if(i not in nanlist):\n",
    "        create_df(i)"
   ]
  },
  {
   "cell_type": "code",
   "execution_count": 12,
   "metadata": {},
   "outputs": [
    {
     "data": {
      "text/plain": [
       "31"
      ]
     },
     "execution_count": 12,
     "metadata": {},
     "output_type": "execute_result"
    }
   ],
   "source": [
    "len(nanlist)"
   ]
  },
  {
   "cell_type": "code",
   "execution_count": 12,
   "metadata": {},
   "outputs": [
    {
     "data": {
      "text/plain": [
       "7163"
      ]
     },
     "execution_count": 12,
     "metadata": {},
     "output_type": "execute_result"
    }
   ],
   "source": [
    "len(list_of_df)"
   ]
  },
  {
   "cell_type": "code",
   "execution_count": 14,
   "metadata": {},
   "outputs": [],
   "source": [
    "sorteddflist= sorted(list_of_df,key=lambda x:x[\"Volume\"].max(axis=0))"
   ]
  },
  {
   "cell_type": "code",
   "execution_count": 15,
   "metadata": {},
   "outputs": [
    {
     "data": {
      "text/plain": [
       "7163"
      ]
     },
     "execution_count": 15,
     "metadata": {},
     "output_type": "execute_result"
    }
   ],
   "source": [
    "len(sorteddflist)"
   ]
  },
  {
   "cell_type": "code",
   "execution_count": 16,
   "metadata": {},
   "outputs": [],
   "source": [
    "general_companies = sorteddflist[2000:6162]"
   ]
  },
  {
   "cell_type": "code",
   "execution_count": 17,
   "metadata": {},
   "outputs": [],
   "source": [
    "companies_of_interest = sorteddflist[6163:7163]"
   ]
  },
  {
   "cell_type": "code",
   "execution_count": 18,
   "metadata": {},
   "outputs": [],
   "source": [
    "companies_of_interest.sort(key=len)"
   ]
  },
  {
   "cell_type": "code",
   "execution_count": 19,
   "metadata": {},
   "outputs": [],
   "source": [
    "general_companies.sort(key=len)"
   ]
  },
  {
   "cell_type": "code",
   "execution_count": 20,
   "metadata": {},
   "outputs": [],
   "source": [
    "general_companies = general_companies[1000:4161]"
   ]
  },
  {
   "cell_type": "code",
   "execution_count": 21,
   "metadata": {},
   "outputs": [],
   "source": [
    "companies_of_interest = companies_of_interest[100:999]"
   ]
  },
  {
   "cell_type": "code",
   "execution_count": 22,
   "metadata": {},
   "outputs": [],
   "source": [
    "history = []\n",
    "volume_mean =[]"
   ]
  },
  {
   "cell_type": "code",
   "execution_count": 23,
   "metadata": {},
   "outputs": [],
   "source": [
    "volume = []"
   ]
  },
  {
   "cell_type": "code",
   "execution_count": 24,
   "metadata": {},
   "outputs": [],
   "source": [
    "change_list = []"
   ]
  },
  {
   "cell_type": "code",
   "execution_count": 25,
   "metadata": {},
   "outputs": [],
   "source": [
    "def plot_change(x):\n",
    "    df = general_companies[x]\n",
    "    change=0\n",
    "    for i,j in df.iterrows():\n",
    "        if (j[1]!=0):\n",
    "            change = (j[4]-j[1])/j[1]\n",
    "            change_list.append(change)"
   ]
  },
  {
   "cell_type": "code",
   "execution_count": null,
   "metadata": {},
   "outputs": [],
   "source": [
    "for i in range(0, len(companies_of_interest)):\n",
    "    plot_change(i)"
   ]
  },
  {
   "cell_type": "code",
   "execution_count": null,
   "metadata": {},
   "outputs": [],
   "source": [
    "for i in range(0, len(companies_of_interest)):\n",
    "    if(i%100==0):\n",
    "        print(i)\n",
    "    plot_change(i)"
   ]
  },
  {
   "cell_type": "code",
   "execution_count": 302,
   "metadata": {},
   "outputs": [],
   "source": [
    "for i in range(0, len(change_list)):\n",
    "    change_list[i]= change_list[i]/100"
   ]
  },
  {
   "cell_type": "code",
   "execution_count": 297,
   "metadata": {},
   "outputs": [
    {
     "data": {
      "text/plain": [
       "1200975"
      ]
     },
     "execution_count": 297,
     "metadata": {},
     "output_type": "execute_result"
    }
   ],
   "source": [
    "len(change_list)"
   ]
  },
  {
   "cell_type": "code",
   "execution_count": null,
   "metadata": {},
   "outputs": [],
   "source": [
    "count_p=0\n",
    "count_n=0\n",
    "for i in change_list:\n",
    "    if(i>5):\n",
    "        count_p = count_p+1\n",
    "    if(i<-5):\n",
    "        print(i)\n",
    "        count_n = count_n+1\n",
    "print(count_p)\n",
    "print(count_n)"
   ]
  },
  {
   "cell_type": "code",
   "execution_count": 325,
   "metadata": {},
   "outputs": [
    {
     "data": {
      "image/png": "[encoded data removed]",
      "text/plain": [
       "<Figure size 720x360 with 1 Axes>"
      ]
     },
     "metadata": {
      "needs_background": "light"
     },
     "output_type": "display_data"
    }
   ],
   "source": [
    "plt.figure(figsize=(10,5))\n",
    "plt.hist(change_list, bins =100, range=(-.5, .5))\n",
    "plt.xlabel('Change in percentage')\n",
    "plt.ylabel('dates')\n",
    "plt.title('Change rates')\n",
    "plt.savefig('change graph')"
   ]
  },
  {
   "cell_type": "code",
   "execution_count": 328,
   "metadata": {},
   "outputs": [
    {
     "data": {
      "image/png": "[encoded data removed]",
      "text/plain": [
       "<Figure size 432x288 with 1 Axes>"
      ]
     },
     "metadata": {},
     "output_type": "display_data"
    }
   ],
   "source": [
    "labels = 'Change >=0', 'Change <0'\n",
    "sizes = [621212,579763]\n",
    "colors = ['yellowgreen', 'lightcoral']\n",
    "\n",
    "# Plot\n",
    "plt.pie(sizes, labels=labels, colors=colors,\n",
    "autopct='%1.1f%%', shadow=True, startangle=140)\n",
    "plt.title('Change Rate Distribution')\n",
    "\n",
    "plt.axis('equal')\n",
    "plt.show()"
   ]
  },
  {
   "cell_type": "code",
   "execution_count": 95,
   "metadata": {},
   "outputs": [],
   "source": [
    "for i in range(0, len(list_of_df)):\n",
    "    plot_history(i)"
   ]
  },
  {
   "cell_type": "code",
   "execution_count": 97,
   "metadata": {},
   "outputs": [
    {
     "data": {
      "text/plain": [
       "7163"
      ]
     },
     "execution_count": 97,
     "metadata": {},
     "output_type": "execute_result"
    }
   ],
   "source": [
    "len(volume_mean)"
   ]
  },
  {
   "cell_type": "code",
   "execution_count": 254,
   "metadata": {},
   "outputs": [
    {
     "data": {
      "image/png": "[encoded data removed]",
      "text/plain": [
       "<Figure size 864x288 with 1 Axes>"
      ]
     },
     "metadata": {
      "needs_background": "light"
     },
     "output_type": "display_data"
    }
   ],
   "source": [
    "plt.figure(figsize=(12,4))\n",
    "plt.hist(history, bins=100)\n",
    "plt.xlabel('Number of Dates')\n",
    "plt.ylabel('Number of Companies')\n",
    "plt.title(r'$\\mathrm{Histogram\\ of\\ Length\\ of\\ Data\\ Frames:}\\ \\mu=2078,\\ \\sigma=1833.25$')\n",
    "plt.savefig('all time')"
   ]
  },
  {
   "cell_type": "code",
   "execution_count": 253,
   "metadata": {},
   "outputs": [
    {
     "data": {
      "image/png": "[encoded data removed]",
      "text/plain": [
       "<Figure size 432x288 with 1 Axes>"
      ]
     },
     "metadata": {
      "needs_background": "light"
     },
     "output_type": "display_data"
    }
   ],
   "source": [
    "plt.figure(figsize=(6,4))\n",
    "plt.hist(volume_mean, bins=20)\n",
    "plt.xlabel('Trade Volumes')\n",
    "plt.ylabel('Number of Companies')\n",
    "plt.title(r'$\\mathrm{Histogram\\ of\\ Average\\ Trade\\ Volume\\:}\\ \\mu=779826,\\ \\sigma=3063858.53$')\n",
    "plt.savefig('all volume')"
   ]
  },
  {
   "cell_type": "code",
   "execution_count": 201,
   "metadata": {},
   "outputs": [],
   "source": [
    "b_hist =[]\n",
    "s_hist =[]\n",
    "s_vol =[]"
   ]
  },
  {
   "cell_type": "code",
   "execution_count": 210,
   "metadata": {},
   "outputs": [],
   "source": [
    "b_vol =[]"
   ]
  },
  {
   "cell_type": "code",
   "execution_count": 202,
   "metadata": {},
   "outputs": [],
   "source": [
    "def plot_history(x):\n",
    "    df = general_companies[x]\n",
    "    sum=0\n",
    "    for i,j in df.iterrows():\n",
    "        sum = sum+j[5]\n",
    "    \n",
    "    s_hist.append(len(df))\n",
    "    s_vol.append(sum/len(df))"
   ]
  },
  {
   "cell_type": "code",
   "execution_count": 213,
   "metadata": {},
   "outputs": [],
   "source": [
    "def big(x):\n",
    "    df = companies_of_interest[x]\n",
    "    print(x)\n",
    "    sum=0\n",
    "    for i,j in df.iterrows():\n",
    "        sum = sum+j[5]\n",
    "    \n",
    "    b_hist.append(len(df))\n",
    "    b_vol.append(sum/len(df))"
   ]
  },
  {
   "cell_type": "code",
   "execution_count": null,
   "metadata": {},
   "outputs": [],
   "source": [
    "for i in range(0,len(companies_of_interest)):\n",
    "    big(i)"
   ]
  },
  {
   "cell_type": "code",
   "execution_count": 252,
   "metadata": {},
   "outputs": [
    {
     "data": {
      "image/png": "[encoded data removed]",
      "text/plain": [
       "<Figure size 720x288 with 1 Axes>"
      ]
     },
     "metadata": {
      "needs_background": "light"
     },
     "output_type": "display_data"
    }
   ],
   "source": [
    "plt.figure(figsize=(10,4))\n",
    "plt.hist(b_vol, bins=20)\n",
    "plt.xlabel('Trade Volumes')\n",
    "plt.ylabel('Number of Companies')\n",
    "plt.title(r'$\\mathrm{Histogram\\ of\\ Average\\ Trade\\ Volume\\ (Top\\ 100):}\\ \\mu=4172660.8,\\ \\sigma=7485875.2$')\n",
    "plt.savefig('top 100 volume_r')"
   ]
  },
  {
   "cell_type": "code",
   "execution_count": 251,
   "metadata": {},
   "outputs": [
    {
     "data": {
      "image/png": "[encoded data removed]",
      "text/plain": [
       "<Figure size 720x288 with 1 Axes>"
      ]
     },
     "metadata": {
      "needs_background": "light"
     },
     "output_type": "display_data"
    }
   ],
   "source": [
    "plt.figure(figsize=(10,4))\n",
    "plt.hist(b_hist, bins=20)\n",
    "plt.xlabel('Number of Dates')\n",
    "plt.ylabel('Number of Companies')\n",
    "plt.title(r'$\\mathrm{Histogram\\ of\\ Length\\ of\\ Data\\ Frame\\ (Top\\ 100):}\\ \\mu=4306.8,\\ \\sigma=2716.1$')\n",
    "plt.savefig('top 100 volume')"
   ]
  },
  {
   "cell_type": "code",
   "execution_count": 249,
   "metadata": {},
   "outputs": [
    {
     "data": {
      "image/png": "[encoded data removed]",
      "text/plain": [
       "<Figure size 720x288 with 1 Axes>"
      ]
     },
     "metadata": {
      "needs_background": "light"
     },
     "output_type": "display_data"
    }
   ],
   "source": [
    "plt.figure(figsize=(10,4))\n",
    "plt.hist(s_vol, bins=20)\n",
    "plt.xlabel('Trade Volumes')\n",
    "plt.ylabel('Number of Companies')\n",
    "plt.title(r'$\\mathrm{Histogram\\ of\\ Average\\ Trade\\ Volume\\ (General\\ Companies):}\\ \\mu=356166.9,\\ \\sigma=442996.07$')\n",
    "plt.savefig('general volume')"
   ]
  },
  {
   "cell_type": "code",
   "execution_count": 255,
   "metadata": {},
   "outputs": [
    {
     "data": {
      "image/png": "[encoded data removed]",
      "text/plain": [
       "<Figure size 720x288 with 1 Axes>"
      ]
     },
     "metadata": {
      "needs_background": "light"
     },
     "output_type": "display_data"
    }
   ],
   "source": [
    "plt.figure(figsize=(10,4))\n",
    "plt.hist(s_hist, bins=20)\n",
    "plt.xlabel('Number of Dates')\n",
    "plt.ylabel('Number of Companies')\n",
    "plt.title(r'$\\mathrm{Histogram\\ of\\ Length\\ of\\ Data\\ Frame\\ (General\\ companies):}\\ \\mu=2668,\\ \\sigma=1106.2$')\n",
    "plt.savefig('general date')"
   ]
  },
  {
   "cell_type": "code",
   "execution_count": 222,
   "metadata": {},
   "outputs": [
    {
     "data": {
      "text/plain": [
       "3175"
      ]
     },
     "execution_count": 222,
     "metadata": {},
     "output_type": "execute_result"
    }
   ],
   "source": [
    "import statistics as s\n",
    "s.median(vo)"
   ]
  },
  {
   "cell_type": "code",
   "execution_count": 248,
   "metadata": {},
   "outputs": [
    {
     "data": {
      "text/plain": [
       "779826.325805949"
      ]
     },
     "execution_count": 248,
     "metadata": {},
     "output_type": "execute_result"
    }
   ],
   "source": [
    "s.mean(volume_mean)"
   ]
  },
  {
   "cell_type": "code",
   "execution_count": 235,
   "metadata": {},
   "outputs": [
    {
     "data": {
      "text/plain": [
       "7485875.189914029"
      ]
     },
     "execution_count": 235,
     "metadata": {},
     "output_type": "execute_result"
    }
   ],
   "source": [
    "s.stdev(b_vol)"
   ]
  },
  {
   "cell_type": "code",
   "execution_count": 121,
   "metadata": {},
   "outputs": [
    {
     "data": {
      "text/plain": [
       "(array([6.497e+03, 3.590e+02, 1.170e+02, 6.500e+01, 3.600e+01, 1.600e+01,\n",
       "        1.400e+01, 1.000e+01, 6.000e+00, 1.200e+01, 3.000e+00, 3.000e+00,\n",
       "        3.000e+00, 3.000e+00, 2.000e+00, 4.000e+00, 0.000e+00, 1.000e+00,\n",
       "        1.000e+00, 1.000e+00, 1.000e+00, 1.000e+00, 0.000e+00, 1.000e+00,\n",
       "        0.000e+00, 1.000e+00, 0.000e+00, 1.000e+00, 0.000e+00, 0.000e+00,\n",
       "        1.000e+00, 1.000e+00, 0.000e+00, 0.000e+00, 0.000e+00, 0.000e+00,\n",
       "        0.000e+00, 0.000e+00, 0.000e+00, 0.000e+00, 1.000e+00, 0.000e+00,\n",
       "        0.000e+00, 0.000e+00, 1.000e+00, 0.000e+00, 0.000e+00, 0.000e+00,\n",
       "        0.000e+00, 0.000e+00, 0.000e+00, 0.000e+00, 0.000e+00, 0.000e+00,\n",
       "        0.000e+00, 0.000e+00, 0.000e+00, 0.000e+00, 0.000e+00, 1.000e+00]),\n",
       " array([4.02976190e+01, 1.77740010e+06, 3.55475990e+06, 5.33211970e+06,\n",
       "        7.10947950e+06, 8.88683930e+06, 1.06641991e+07, 1.24415589e+07,\n",
       "        1.42189187e+07, 1.59962785e+07, 1.77736383e+07, 1.95509981e+07,\n",
       "        2.13283579e+07, 2.31057177e+07, 2.48830775e+07, 2.66604373e+07,\n",
       "        2.84377971e+07, 3.02151569e+07, 3.19925167e+07, 3.37698765e+07,\n",
       "        3.55472363e+07, 3.73245961e+07, 3.91019559e+07, 4.08793157e+07,\n",
       "        4.26566755e+07, 4.44340353e+07, 4.62113951e+07, 4.79887549e+07,\n",
       "        4.97661147e+07, 5.15434745e+07, 5.33208343e+07, 5.50981941e+07,\n",
       "        5.68755539e+07, 5.86529137e+07, 6.04302735e+07, 6.22076333e+07,\n",
       "        6.39849932e+07, 6.57623530e+07, 6.75397128e+07, 6.93170726e+07,\n",
       "        7.10944324e+07, 7.28717922e+07, 7.46491520e+07, 7.64265118e+07,\n",
       "        7.82038716e+07, 7.99812314e+07, 8.17585912e+07, 8.35359510e+07,\n",
       "        8.53133108e+07, 8.70906706e+07, 8.88680304e+07, 9.06453902e+07,\n",
       "        9.24227500e+07, 9.42001098e+07, 9.59774696e+07, 9.77548294e+07,\n",
       "        9.95321892e+07, 1.01309549e+08, 1.03086909e+08, 1.04864269e+08,\n",
       "        1.06641628e+08]),\n",
       " <a list of 60 Patch objects>)"
      ]
     },
     "execution_count": 121,
     "metadata": {},
     "output_type": "execute_result"
    },
    {
     "data": {
      "image/png": "[encoded data removed]",
      "text/plain": [
       "<Figure size 432x288 with 1 Axes>"
      ]
     },
     "metadata": {
      "needs_background": "light"
     },
     "output_type": "display_data"
    }
   ],
   "source": [
    "plt.hist(volume_mean, bins = 60)"
   ]
  },
  {
   "cell_type": "code",
   "execution_count": 18,
   "metadata": {},
   "outputs": [],
   "source": [
    "classification = {}"
   ]
  },
  {
   "cell_type": "code",
   "execution_count": 148,
   "metadata": {},
   "outputs": [],
   "source": [
    "zipped = tuple(zipped)"
   ]
  },
  {
   "cell_type": "code",
   "execution_count": 159,
   "metadata": {},
   "outputs": [],
   "source": [
    "import numpy as np\n",
    "zipped = np.array(zipped)"
   ]
  },
  {
   "cell_type": "code",
   "execution_count": 329,
   "metadata": {},
   "outputs": [
    {
     "data": {
      "text/plain": [
       "DescribeResult(nobs=1200975, minmax=(-42.08860759493671, 80.48780487804879), mean=0.0004080965118436734, variance=0.04430735114475457, skewness=77.8766796101842, kurtosis=36384.9145119549)"
      ]
     },
     "execution_count": 329,
     "metadata": {},
     "output_type": "execute_result"
    }
   ],
   "source": [
    "from scipy import stats \n",
    "stats.describe(change_list)"
   ]
  },
  {
   "cell_type": "code",
   "execution_count": 296,
   "metadata": {},
   "outputs": [
    {
     "data": {
      "image/png": "[encoded data removed]",
      "text/plain": [
       "<Figure size 720x1080 with 1 Axes>"
      ]
     },
     "metadata": {
      "needs_background": "light"
     },
     "output_type": "display_data"
    }
   ],
   "source": [
    "plt.figure(figsize=(10,15))\n",
    "plt.scatter(volume_mean, history, s=5)\n",
    "plt.xlabel('Average trade volume')\n",
    "plt.ylabel('Number of Trading Dates')\n",
    "plt.title('Average Trade Volume vs Number of Companies')\n",
    "plt.savefig('overall scatter')"
   ]
  },
  {
   "cell_type": "code",
   "execution_count": 164,
   "metadata": {},
   "outputs": [
    {
     "name": "stdout",
     "output_type": "stream",
     "text": [
      "[[2.01156814e+03 4.52918221e+05]\n",
      " [5.71745455e+03 5.57100229e+07]\n",
      " [4.76652201e+03 1.13574126e+07]]\n"
     ]
    },
    {
     "data": {
      "text/plain": [
       "<matplotlib.collections.PathCollection at 0x1aa3115c50>"
      ]
     },
     "execution_count": 164,
     "metadata": {},
     "output_type": "execute_result"
    },
    {
     "data": {
      "image/png": "[encoded data removed]",
      "text/plain": [
       "<Figure size 432x288 with 1 Axes>"
      ]
     },
     "metadata": {
      "needs_background": "light"
     },
     "output_type": "display_data"
    }
   ],
   "source": [
    "from sklearn.cluster import KMeans\n",
    "kmeans = KMeans(n_clusters=3)\n",
    "# fit kmeans object to data\n",
    "kmeans.fit(zipped)\n",
    "# print location of clusters learned by kmeans object\n",
    "print(kmeans.cluster_centers_)\n",
    "# save new clusters for chart\n",
    "y_km = kmeans.fit_predict(zipped)\n",
    "\n",
    "plt.scatter(zipped[y_km ==0,0], zipped[y_km == 0,1], s=10, c='red')\n",
    "plt.scatter(zipped[y_km ==1,0], zipped[y_km == 1,1], s=10, c='black')\n",
    "plt.scatter(zipped[y_km ==2,0], zipped[y_km == 2,1], s=10, c='blue')\n"
   ]
  },
  {
   "cell_type": "code",
   "execution_count": 19,
   "metadata": {},
   "outputs": [],
   "source": [
    "def relativity (x,y):\n",
    "    df= companies_of_interest[x]\n",
    "    df1= general_companies[y]\n",
    "    changelist = []\n",
    "    changelist_1 = []\n",
    "    positive = 0\n",
    "    negative = 0\n",
    "    countpos = 0\n",
    "    countneg = 0\n",
    "    \n",
    "    if(len(df1)>200):\n",
    "        for i, j in df.iterrows():\n",
    "            if(j[1]!=0):\n",
    "                change = (j[4]-j[1])/j[1]\n",
    "                changelist.append((j[0], change))\n",
    "        for i, j in df1.iterrows():\n",
    "            if(j[1]!=0):\n",
    "                change1 = (j[4]-j[1])/j[1]\n",
    "                changelist_1.append((j[0], change1))\n",
    "    \n",
    "        for c in changelist:\n",
    "            date, change = c\n",
    "            for c1 in changelist_1:\n",
    "                date1, change1 = c1\n",
    "                if(date == date1):\n",
    "                    if((change >0) & (change1>0)):\n",
    "                        classification.update({date:1})\n",
    "                        positive= positive+compare(change,change1)\n",
    "                        countpos= countpos+1\n",
    "                    if((change <0) & (change1<0)):\n",
    "                        classification.update({date:1})\n",
    "                        positive= positive+compare(change,change1)\n",
    "                        countpos= countpos+1\n",
    "                    if((change>0) & (change1<0)):\n",
    "                        classification.update({date:-1})\n",
    "                        negative= negative-compare(change,change1)\n",
    "                        countneg = countneg+1\n",
    "                    if((change<0) & (change1>0)):\n",
    "                        classification.update({date:-1})\n",
    "                        negative= negative-compare(change,change1)\n",
    "                        countneg = countneg+1\n",
    "        if((positive/negative)>1.30):\n",
    "            correlated_companies.append([x,y])\n",
    "        if((positive/negative)<.7):\n",
    "            correlated_companies.append([x,y])\n",
    "        if(negative!=0):\n",
    "            return (positive/negative)\n",
    "        else: \n",
    "            return 0\n",
    "    else: \n",
    "        return 0"
   ]
  },
  {
   "cell_type": "code",
   "execution_count": 20,
   "metadata": {},
   "outputs": [],
   "source": [
    "correlated_companies = []"
   ]
  },
  {
   "cell_type": "code",
   "execution_count": 21,
   "metadata": {},
   "outputs": [],
   "source": [
    "def compare(x,y):\n",
    "    if(x>y):\n",
    "        if(x!=0):\n",
    "            return y/x\n",
    "        if(x==0):\n",
    "            return 0\n",
    "    if(y>x):\n",
    "        if(y!=0):\n",
    "            return x/y\n",
    "        if(y==0):\n",
    "            return 0\n",
    "    if(x==y):\n",
    "        return 1"
   ]
  },
  {
   "cell_type": "code",
   "execution_count": null,
   "metadata": {},
   "outputs": [],
   "source": [
    "import random\n",
    "count = 0\n",
    "for i in range(0,7):\n",
    "    x= random.randint(0,200)\n",
    "    count= count+1\n",
    "    print(count)\n",
    "    for j in range(0, 150):\n",
    "        y= random.randint(0,1000)\n",
    "        relativity(x,y)"
   ]
  },
  {
   "cell_type": "code",
   "execution_count": 23,
   "metadata": {},
   "outputs": [
    {
     "data": {
      "text/plain": [
       "314"
      ]
     },
     "execution_count": 23,
     "metadata": {},
     "output_type": "execute_result"
    }
   ],
   "source": [
    "len(correlated_companies)"
   ]
  },
  {
   "cell_type": "code",
   "execution_count": null,
   "metadata": {},
   "outputs": [],
   "source": [
    "correlated_companies"
   ]
  },
  {
   "cell_type": "code",
   "execution_count": null,
   "metadata": {},
   "outputs": [],
   "source": [
    "count = 0\n",
    "x = []\n",
    "for i in range(0, len(correlated_companies)):\n",
    "    if(i<len(correlated_companies)-1):\n",
    "        if (correlated_companies[i][0]==correlated_companies[i+1][0]):\n",
    "            count = count+1\n",
    "        elif(correlated_companies[i][0]!=correlated_companies[i+1][0]):\n",
    "            company = correlated_companies[i][0]\n",
    "            number = count\n",
    "            x.append(company)\n",
    "            x.append(count)\n",
    "            print(x)\n",
    "            count = 0\n",
    "            x.clear()\n",
    "    else:\n",
    "        company = correlated_companies[i][0]\n",
    "        number = count\n",
    "        x.append(company)\n",
    "        x.append(count)\n",
    "        print(x)\n"
   ]
  },
  {
   "cell_type": "code",
   "execution_count": 36,
   "metadata": {},
   "outputs": [],
   "source": [
    "import matplotlib.pyplot as plt\n",
    "def plot (x,y):\n",
    "    df= x\n",
    "    df1=y\n",
    "    closelist = []\n",
    "    closelist_1 = []\n",
    "    for i, j in df.iterrows(): \n",
    "        close = j[4]\n",
    "        closelist.append(close)\n",
    "    for i, j in df1.iterrows():\n",
    "        close1 = j[4]\n",
    "        closelist_1.append(close1)\n",
    "    plt.plot(range(0,len(closelist)), closelist)\n",
    "    plt.plot(range(0,len(closelist_1)), closelist_1)"
   ]
  },
  {
   "cell_type": "code",
   "execution_count": 764,
   "metadata": {},
   "outputs": [],
   "source": [
    "list_attributes = []\n",
    "attributes = []\n",
    "for i in correlated_companies:\n",
    "    list_attributes = i\n",
    "    if(list_attributes[0]==98):\n",
    "        attributes.append(list_attributes[1])"
   ]
  },
  {
   "cell_type": "code",
   "execution_count": 765,
   "metadata": {},
   "outputs": [],
   "source": [
    "attributes.sort(reverse=True)"
   ]
  },
  {
   "cell_type": "code",
   "execution_count": 766,
   "metadata": {},
   "outputs": [],
   "source": [
    "attributes = attributes[0: 20]"
   ]
  },
  {
   "cell_type": "code",
   "execution_count": null,
   "metadata": {},
   "outputs": [],
   "source": []
  },
  {
   "cell_type": "code",
   "execution_count": 670,
   "metadata": {},
   "outputs": [],
   "source": [
    "dates = []\n",
    "attribute_dates =[]\n",
    "all_dates = []\n",
    "df_new = companies_of_interest[21]\n",
    "for i,j in df_new.iterrows():\n",
    "    dates.append(j[0])\n",
    "\n",
    "for x in attributes:\n",
    "    temp_dates =[]\n",
    "    for i,j in general_companies[x].iterrows():\n",
    "        temp_dates.append(j[0])\n",
    "        all_dates.append(j[0])\n",
    "    attribute_dates.append(temp_dates)"
   ]
  },
  {
   "cell_type": "code",
   "execution_count": 671,
   "metadata": {},
   "outputs": [],
   "source": [
    "for x in dates:\n",
    "    if (x not in all_dates):\n",
    "        dates.remove(x)"
   ]
  },
  {
   "cell_type": "code",
   "execution_count": 672,
   "metadata": {},
   "outputs": [],
   "source": [
    "a_dates =[]\n",
    "for x in attribute_dates:\n",
    "    a_dates = x\n",
    "    for y in x:\n",
    "        if(y not in dates):\n",
    "            x.remove(y)"
   ]
  },
  {
   "cell_type": "code",
   "execution_count": 563,
   "metadata": {},
   "outputs": [],
   "source": [
    "attribute_dates.sort(key=len)"
   ]
  },
  {
   "cell_type": "code",
   "execution_count": 564,
   "metadata": {},
   "outputs": [],
   "source": [
    "get_classification = []"
   ]
  },
  {
   "cell_type": "code",
   "execution_count": null,
   "metadata": {},
   "outputs": [],
   "source": [
    "attributes"
   ]
  },
  {
   "cell_type": "code",
   "execution_count": 566,
   "metadata": {},
   "outputs": [],
   "source": [
    "for i in attributes:\n",
    "    len_list.append(len(general_companies[i]))"
   ]
  },
  {
   "cell_type": "code",
   "execution_count": 567,
   "metadata": {},
   "outputs": [],
   "source": [
    "len_list = []"
   ]
  },
  {
   "cell_type": "code",
   "execution_count": null,
   "metadata": {},
   "outputs": [],
   "source": []
  },
  {
   "cell_type": "code",
   "execution_count": 675,
   "metadata": {},
   "outputs": [],
   "source": [
    "get_classification[:]=[]"
   ]
  },
  {
   "cell_type": "code",
   "execution_count": 676,
   "metadata": {},
   "outputs": [],
   "source": [
    "def classification_data(x):\n",
    "    changelist = []\n",
    "    df = companies_of_interest[x]\n",
    "    for i, j in df.iterrows():\n",
    "        if(j[0] in dates):\n",
    "            if(j[1]!=0):\n",
    "                change = (j[4]-j[1])/j[1]\n",
    "                if( change>=0):\n",
    "                    get_classification.append(1)\n",
    "                if(change<0):\n",
    "                    get_classification.append(0)"
   ]
  },
  {
   "cell_type": "code",
   "execution_count": 696,
   "metadata": {},
   "outputs": [],
   "source": [
    "classification_data(21)"
   ]
  },
  {
   "cell_type": "code",
   "execution_count": null,
   "metadata": {},
   "outputs": [],
   "source": []
  },
  {
   "cell_type": "code",
   "execution_count": 385,
   "metadata": {},
   "outputs": [],
   "source": [
    "def get_changerate (x):\n",
    "    temp_list_of_dicts[:]=[]\n",
    "    get_change = []\n",
    "    get_dates = []\n",
    "    df = general_companies[x]\n",
    "    for i, j in df.iterrows():\n",
    "         get_dates.append(j[0])\n",
    "    for date in dates:\n",
    "        if(date in get_dates):\n",
    "            Open = df.loc[df['Date']==date]['Open'].values\n",
    "            open = Open[0]\n",
    "            Close = df.loc[df['Date']==date]['Close'].values\n",
    "            close = Close[0]\n",
    "            change = ((close-open)/open)\n",
    "            temp_list_of_dicts.append(change)\n",
    "        else : \n",
    "            temp_list_of_dicts.append(0)\n",
    "        \n",
    "    return temp_list_of_dicts\n",
    "                #if in the bigger date list, get the change rate in. if in the bigger list but not here, put 0.\n",
    "                #if in the smaller list, but not in bigger list, no value."
   ]
  },
  {
   "cell_type": "code",
   "execution_count": 575,
   "metadata": {},
   "outputs": [],
   "source": [
    "temp_list_of_dicts[:]=[]"
   ]
  },
  {
   "cell_type": "code",
   "execution_count": 374,
   "metadata": {},
   "outputs": [],
   "source": [
    "for i in range(0, len(attributes)):\n",
    "    get_changerate(i)"
   ]
  },
  {
   "cell_type": "code",
   "execution_count": null,
   "metadata": {},
   "outputs": [],
   "source": []
  },
  {
   "cell_type": "code",
   "execution_count": null,
   "metadata": {},
   "outputs": [],
   "source": [
    "row = (general_companies[192].loc[general_companies[192]['Date']=='2016-05-23']['Open']).values\n",
    "a = row[0]\n",
    "print(a)"
   ]
  },
  {
   "cell_type": "code",
   "execution_count": 689,
   "metadata": {},
   "outputs": [],
   "source": [
    "dataframe = pd.DataFrame(columns = attributes, index = dates)"
   ]
  },
  {
   "cell_type": "code",
   "execution_count": 589,
   "metadata": {},
   "outputs": [],
   "source": [
    "attributes.remove(711)"
   ]
  },
  {
   "cell_type": "code",
   "execution_count": 386,
   "metadata": {},
   "outputs": [],
   "source": [
    "def insert_into_df (x):\n",
    "    dataframe[x]=get_changerate(x)"
   ]
  },
  {
   "cell_type": "code",
   "execution_count": null,
   "metadata": {},
   "outputs": [],
   "source": [
    "for i in attributes:\n",
    "    print(i)\n",
    "    insert_into_df(i)"
   ]
  },
  {
   "cell_type": "code",
   "execution_count": 688,
   "metadata": {},
   "outputs": [],
   "source": [
    "dataframe = dataframe.iloc[0:0]"
   ]
  },
  {
   "cell_type": "code",
   "execution_count": 684,
   "metadata": {},
   "outputs": [],
   "source": [
    "attributes.remove(874)\n",
    "attributes.remove(755)"
   ]
  },
  {
   "cell_type": "code",
   "execution_count": 692,
   "metadata": {},
   "outputs": [],
   "source": [
    "dataframe.insert(18,'classification',0)"
   ]
  },
  {
   "cell_type": "code",
   "execution_count": 697,
   "metadata": {},
   "outputs": [],
   "source": [
    "dataframe['classification']=get_classification"
   ]
  },
  {
   "cell_type": "code",
   "execution_count": 698,
   "metadata": {},
   "outputs": [],
   "source": [
    "dataframe_reduced = dataframe.drop(dataframe.index[0:1000])"
   ]
  },
  {
   "cell_type": "code",
   "execution_count": 699,
   "metadata": {},
   "outputs": [
    {
     "data": {
      "text/html": [
       "<div>\n",
       "<style scoped>\n",
       "    .dataframe tbody tr th:only-of-type {\n",
       "        vertical-align: middle;\n",
       "    }\n",
       "\n",
       "    .dataframe tbody tr th {\n",
       "        vertical-align: top;\n",
       "    }\n",
       "\n",
       "    .dataframe thead th {\n",
       "        text-align: right;\n",
       "    }\n",
       "</style>\n",
       "<table border=\"1\" class=\"dataframe\">\n",
       "  <thead>\n",
       "    <tr style=\"text-align: right;\">\n",
       "      <th></th>\n",
       "      <th>960</th>\n",
       "      <th>948</th>\n",
       "      <th>938</th>\n",
       "      <th>937</th>\n",
       "      <th>920</th>\n",
       "      <th>916</th>\n",
       "      <th>887</th>\n",
       "      <th>874</th>\n",
       "      <th>874</th>\n",
       "      <th>872</th>\n",
       "      <th>845</th>\n",
       "      <th>755</th>\n",
       "      <th>730</th>\n",
       "      <th>676</th>\n",
       "      <th>628</th>\n",
       "      <th>625</th>\n",
       "      <th>570</th>\n",
       "      <th>533</th>\n",
       "      <th>classification</th>\n",
       "    </tr>\n",
       "  </thead>\n",
       "  <tbody>\n",
       "    <tr>\n",
       "      <td>2013-07-25</td>\n",
       "      <td>0.009822</td>\n",
       "      <td>-0.016566</td>\n",
       "      <td>-0.033333</td>\n",
       "      <td>-0.022076</td>\n",
       "      <td>-0.011778</td>\n",
       "      <td>-0.002048</td>\n",
       "      <td>0.016701</td>\n",
       "      <td>-0.046512</td>\n",
       "      <td>-0.046512</td>\n",
       "      <td>0.000969</td>\n",
       "      <td>-0.006033</td>\n",
       "      <td>0.021401</td>\n",
       "      <td>-0.000528</td>\n",
       "      <td>0.037900</td>\n",
       "      <td>0.009511</td>\n",
       "      <td>0.020690</td>\n",
       "      <td>0.019005</td>\n",
       "      <td>0.017570</td>\n",
       "      <td>0</td>\n",
       "    </tr>\n",
       "    <tr>\n",
       "      <td>2013-07-26</td>\n",
       "      <td>0.004905</td>\n",
       "      <td>-0.057956</td>\n",
       "      <td>0.000000</td>\n",
       "      <td>0.000000</td>\n",
       "      <td>-0.016678</td>\n",
       "      <td>-0.001711</td>\n",
       "      <td>-0.006186</td>\n",
       "      <td>0.000000</td>\n",
       "      <td>0.000000</td>\n",
       "      <td>-0.005528</td>\n",
       "      <td>0.002387</td>\n",
       "      <td>-0.014166</td>\n",
       "      <td>-0.000907</td>\n",
       "      <td>-0.007066</td>\n",
       "      <td>0.002755</td>\n",
       "      <td>-0.025316</td>\n",
       "      <td>0.002034</td>\n",
       "      <td>-0.029787</td>\n",
       "      <td>1</td>\n",
       "    </tr>\n",
       "    <tr>\n",
       "      <td>2013-07-29</td>\n",
       "      <td>-0.007299</td>\n",
       "      <td>0.000000</td>\n",
       "      <td>-0.147059</td>\n",
       "      <td>0.007821</td>\n",
       "      <td>0.000000</td>\n",
       "      <td>-0.007922</td>\n",
       "      <td>-0.026971</td>\n",
       "      <td>0.032258</td>\n",
       "      <td>0.032258</td>\n",
       "      <td>-0.008447</td>\n",
       "      <td>-0.001884</td>\n",
       "      <td>-0.015043</td>\n",
       "      <td>-0.004149</td>\n",
       "      <td>-0.024127</td>\n",
       "      <td>0.012030</td>\n",
       "      <td>0.060544</td>\n",
       "      <td>0.013417</td>\n",
       "      <td>0.007331</td>\n",
       "      <td>0</td>\n",
       "    </tr>\n",
       "    <tr>\n",
       "      <td>2013-07-30</td>\n",
       "      <td>-0.008563</td>\n",
       "      <td>-0.066667</td>\n",
       "      <td>0.000000</td>\n",
       "      <td>0.003061</td>\n",
       "      <td>-0.002421</td>\n",
       "      <td>-0.018287</td>\n",
       "      <td>0.004219</td>\n",
       "      <td>0.023622</td>\n",
       "      <td>0.023622</td>\n",
       "      <td>-0.009499</td>\n",
       "      <td>-0.010772</td>\n",
       "      <td>-0.023087</td>\n",
       "      <td>-0.005278</td>\n",
       "      <td>-0.013269</td>\n",
       "      <td>0.008004</td>\n",
       "      <td>-0.076923</td>\n",
       "      <td>0.008106</td>\n",
       "      <td>-0.021739</td>\n",
       "      <td>0</td>\n",
       "    </tr>\n",
       "    <tr>\n",
       "      <td>2013-07-31</td>\n",
       "      <td>-0.004938</td>\n",
       "      <td>0.003934</td>\n",
       "      <td>0.034126</td>\n",
       "      <td>-0.010407</td>\n",
       "      <td>-0.007207</td>\n",
       "      <td>0.009290</td>\n",
       "      <td>-0.035491</td>\n",
       "      <td>0.007874</td>\n",
       "      <td>0.007874</td>\n",
       "      <td>-0.012574</td>\n",
       "      <td>0.002861</td>\n",
       "      <td>0.028302</td>\n",
       "      <td>-0.003096</td>\n",
       "      <td>-0.025058</td>\n",
       "      <td>-0.050231</td>\n",
       "      <td>-0.021196</td>\n",
       "      <td>0.017594</td>\n",
       "      <td>0.014815</td>\n",
       "      <td>1</td>\n",
       "    </tr>\n",
       "  </tbody>\n",
       "</table>\n",
       "</div>"
      ],
      "text/plain": [
       "                 960       948       938       937       920       916  \\\n",
       "2013-07-25  0.009822 -0.016566 -0.033333 -0.022076 -0.011778 -0.002048   \n",
       "2013-07-26  0.004905 -0.057956  0.000000  0.000000 -0.016678 -0.001711   \n",
       "2013-07-29 -0.007299  0.000000 -0.147059  0.007821  0.000000 -0.007922   \n",
       "2013-07-30 -0.008563 -0.066667  0.000000  0.003061 -0.002421 -0.018287   \n",
       "2013-07-31 -0.004938  0.003934  0.034126 -0.010407 -0.007207  0.009290   \n",
       "\n",
       "                 887       874       874       872       845       755  \\\n",
       "2013-07-25  0.016701 -0.046512 -0.046512  0.000969 -0.006033  0.021401   \n",
       "2013-07-26 -0.006186  0.000000  0.000000 -0.005528  0.002387 -0.014166   \n",
       "2013-07-29 -0.026971  0.032258  0.032258 -0.008447 -0.001884 -0.015043   \n",
       "2013-07-30  0.004219  0.023622  0.023622 -0.009499 -0.010772 -0.023087   \n",
       "2013-07-31 -0.035491  0.007874  0.007874 -0.012574  0.002861  0.028302   \n",
       "\n",
       "                 730       676       628       625       570       533  \\\n",
       "2013-07-25 -0.000528  0.037900  0.009511  0.020690  0.019005  0.017570   \n",
       "2013-07-26 -0.000907 -0.007066  0.002755 -0.025316  0.002034 -0.029787   \n",
       "2013-07-29 -0.004149 -0.024127  0.012030  0.060544  0.013417  0.007331   \n",
       "2013-07-30 -0.005278 -0.013269  0.008004 -0.076923  0.008106 -0.021739   \n",
       "2013-07-31 -0.003096 -0.025058 -0.050231 -0.021196  0.017594  0.014815   \n",
       "\n",
       "            classification  \n",
       "2013-07-25               0  \n",
       "2013-07-26               1  \n",
       "2013-07-29               0  \n",
       "2013-07-30               0  \n",
       "2013-07-31               1  "
      ]
     },
     "execution_count": 699,
     "metadata": {},
     "output_type": "execute_result"
    }
   ],
   "source": [
    "dataframe_reduced.head()"
   ]
  },
  {
   "cell_type": "code",
   "execution_count": 732,
   "metadata": {},
   "outputs": [],
   "source": [
    "X = dataframe_reduced.iloc[:, 1:18]\n",
    "y = dataframe_reduced.iloc[:, 18]"
   ]
  },
  {
   "cell_type": "code",
   "execution_count": 733,
   "metadata": {},
   "outputs": [],
   "source": [
    "X = X.values\n",
    "y = y.values"
   ]
  },
  {
   "cell_type": "code",
   "execution_count": 826,
   "metadata": {},
   "outputs": [],
   "source": [
    "from sklearn.model_selection import train_test_split\n",
    "X_train, X_test, y_train, y_test = train_test_split(X, y, test_size = 0.2, random_state = 0)"
   ]
  },
  {
   "cell_type": "code",
   "execution_count": 800,
   "metadata": {},
   "outputs": [],
   "source": [
    "import keras"
   ]
  },
  {
   "cell_type": "code",
   "execution_count": 801,
   "metadata": {},
   "outputs": [],
   "source": [
    "from keras.models import Sequential\n",
    "from keras.layers import Dense"
   ]
  },
  {
   "cell_type": "code",
   "execution_count": 813,
   "metadata": {},
   "outputs": [],
   "source": [
    "classifier = Sequential()"
   ]
  },
  {
   "cell_type": "code",
   "execution_count": 814,
   "metadata": {},
   "outputs": [],
   "source": [
    "classifier.add(Dense(activation = 'relu', input_dim = 17, units = 10, kernel_initializer = 'uniform'))"
   ]
  },
  {
   "cell_type": "code",
   "execution_count": 815,
   "metadata": {},
   "outputs": [],
   "source": [
    "classifier.add(Dense(activation = 'relu', units = 11, kernel_initializer = 'uniform'))"
   ]
  },
  {
   "cell_type": "code",
   "execution_count": 816,
   "metadata": {},
   "outputs": [],
   "source": [
    "classifier.add(Dense(activation = 'relu', units = 12, kernel_initializer = 'uniform'))"
   ]
  },
  {
   "cell_type": "code",
   "execution_count": 817,
   "metadata": {},
   "outputs": [],
   "source": [
    "classifier.add(Dense(activation = 'sigmoid', units = 1, kernel_initializer = 'uniform'))"
   ]
  },
  {
   "cell_type": "code",
   "execution_count": 818,
   "metadata": {},
   "outputs": [],
   "source": [
    "classifier.compile(optimizer = 'adam', loss = 'binary_crossentropy', metrics = ['accuracy'])"
   ]
  },
  {
   "cell_type": "code",
   "execution_count": 819,
   "metadata": {},
   "outputs": [
    {
     "name": "stdout",
     "output_type": "stream",
     "text": [
      "Epoch 1/200\n",
      "1030/1030 [==============================] - 0s 264us/step - loss: 0.6920 - accuracy: 0.5583\n",
      "Epoch 2/200\n",
      "1030/1030 [==============================] - 0s 92us/step - loss: 0.6901 - accuracy: 0.5592\n",
      "Epoch 3/200\n",
      "1030/1030 [==============================] - 0s 87us/step - loss: 0.6887 - accuracy: 0.5592\n",
      "Epoch 4/200\n",
      "1030/1030 [==============================] - 0s 91us/step - loss: 0.6874 - accuracy: 0.5592\n",
      "Epoch 5/200\n",
      "1030/1030 [==============================] - 0s 88us/step - loss: 0.6867 - accuracy: 0.5592\n",
      "Epoch 6/200\n",
      "1030/1030 [==============================] - 0s 89us/step - loss: 0.6858 - accuracy: 0.5592\n",
      "Epoch 7/200\n",
      "1030/1030 [==============================] - 0s 87us/step - loss: 0.6851 - accuracy: 0.5592\n",
      "Epoch 8/200\n",
      "1030/1030 [==============================] - 0s 108us/step - loss: 0.6843 - accuracy: 0.5592\n",
      "Epoch 9/200\n",
      "1030/1030 [==============================] - 0s 94us/step - loss: 0.6830 - accuracy: 0.5592\n",
      "Epoch 10/200\n",
      "1030/1030 [==============================] - 0s 91us/step - loss: 0.6803 - accuracy: 0.5592\n",
      "Epoch 11/200\n",
      "1030/1030 [==============================] - 0s 89us/step - loss: 0.6757 - accuracy: 0.5592\n",
      "Epoch 12/200\n",
      "1030/1030 [==============================] - 0s 91us/step - loss: 0.6701 - accuracy: 0.5816\n",
      "Epoch 13/200\n",
      "1030/1030 [==============================] - 0s 92us/step - loss: 0.6644 - accuracy: 0.5971\n",
      "Epoch 14/200\n",
      "1030/1030 [==============================] - 0s 90us/step - loss: 0.6596 - accuracy: 0.5951\n",
      "Epoch 15/200\n",
      "1030/1030 [==============================] - 0s 95us/step - loss: 0.6556 - accuracy: 0.5951\n",
      "Epoch 16/200\n",
      "1030/1030 [==============================] - 0s 90us/step - loss: 0.6533 - accuracy: 0.6049\n",
      "Epoch 17/200\n",
      "1030/1030 [==============================] - 0s 89us/step - loss: 0.6511 - accuracy: 0.6058\n",
      "Epoch 18/200\n",
      "1030/1030 [==============================] - 0s 102us/step - loss: 0.6508 - accuracy: 0.6194\n",
      "Epoch 19/200\n",
      "1030/1030 [==============================] - 0s 105us/step - loss: 0.6493 - accuracy: 0.5981\n",
      "Epoch 20/200\n",
      "1030/1030 [==============================] - 0s 108us/step - loss: 0.6489 - accuracy: 0.6000\n",
      "Epoch 21/200\n",
      "1030/1030 [==============================] - 0s 98us/step - loss: 0.6494 - accuracy: 0.6068\n",
      "Epoch 22/200\n",
      "1030/1030 [==============================] - 0s 93us/step - loss: 0.6484 - accuracy: 0.6146\n",
      "Epoch 23/200\n",
      "1030/1030 [==============================] - 0s 90us/step - loss: 0.6487 - accuracy: 0.6078\n",
      "Epoch 24/200\n",
      "1030/1030 [==============================] - 0s 95us/step - loss: 0.6483 - accuracy: 0.6010\n",
      "Epoch 25/200\n",
      "1030/1030 [==============================] - 0s 90us/step - loss: 0.6475 - accuracy: 0.6000\n",
      "Epoch 26/200\n",
      "1030/1030 [==============================] - 0s 97us/step - loss: 0.6475 - accuracy: 0.6058\n",
      "Epoch 27/200\n",
      "1030/1030 [==============================] - 0s 93us/step - loss: 0.6484 - accuracy: 0.5961\n",
      "Epoch 28/200\n",
      "1030/1030 [==============================] - 0s 104us/step - loss: 0.6475 - accuracy: 0.5990\n",
      "Epoch 29/200\n",
      "1030/1030 [==============================] - 0s 98us/step - loss: 0.6473 - accuracy: 0.6000\n",
      "Epoch 30/200\n",
      "1030/1030 [==============================] - 0s 103us/step - loss: 0.6470 - accuracy: 0.6049\n",
      "Epoch 31/200\n",
      "1030/1030 [==============================] - 0s 106us/step - loss: 0.6468 - accuracy: 0.6117\n",
      "Epoch 32/200\n",
      "1030/1030 [==============================] - 0s 105us/step - loss: 0.6463 - accuracy: 0.6019\n",
      "Epoch 33/200\n",
      "1030/1030 [==============================] - 0s 94us/step - loss: 0.6473 - accuracy: 0.6126\n",
      "Epoch 34/200\n",
      "1030/1030 [==============================] - 0s 91us/step - loss: 0.6469 - accuracy: 0.5990\n",
      "Epoch 35/200\n",
      "1030/1030 [==============================] - 0s 98us/step - loss: 0.6463 - accuracy: 0.6175\n",
      "Epoch 36/200\n",
      "1030/1030 [==============================] - 0s 99us/step - loss: 0.6468 - accuracy: 0.6068\n",
      "Epoch 37/200\n",
      "1030/1030 [==============================] - 0s 103us/step - loss: 0.6469 - accuracy: 0.6068\n",
      "Epoch 38/200\n",
      "1030/1030 [==============================] - 0s 109us/step - loss: 0.6454 - accuracy: 0.6068\n",
      "Epoch 39/200\n",
      "1030/1030 [==============================] - 0s 97us/step - loss: 0.6465 - accuracy: 0.6058\n",
      "Epoch 40/200\n",
      "1030/1030 [==============================] - 0s 98us/step - loss: 0.6466 - accuracy: 0.6029\n",
      "Epoch 41/200\n",
      "1030/1030 [==============================] - 0s 90us/step - loss: 0.6461 - accuracy: 0.6078\n",
      "Epoch 42/200\n",
      "1030/1030 [==============================] - 0s 105us/step - loss: 0.6457 - accuracy: 0.6068\n",
      "Epoch 43/200\n",
      "1030/1030 [==============================] - 0s 102us/step - loss: 0.6461 - accuracy: 0.6146\n",
      "Epoch 44/200\n",
      "1030/1030 [==============================] - 0s 106us/step - loss: 0.6459 - accuracy: 0.5981\n",
      "Epoch 45/200\n",
      "1030/1030 [==============================] - 0s 96us/step - loss: 0.6465 - accuracy: 0.6126\n",
      "Epoch 46/200\n",
      "1030/1030 [==============================] - 0s 98us/step - loss: 0.6465 - accuracy: 0.5971\n",
      "Epoch 47/200\n",
      "1030/1030 [==============================] - 0s 91us/step - loss: 0.6457 - accuracy: 0.6087\n",
      "Epoch 48/200\n",
      "1030/1030 [==============================] - 0s 95us/step - loss: 0.6455 - accuracy: 0.6000\n",
      "Epoch 49/200\n",
      "1030/1030 [==============================] - 0s 99us/step - loss: 0.6457 - accuracy: 0.5951\n",
      "Epoch 50/200\n",
      "1030/1030 [==============================] - 0s 97us/step - loss: 0.6454 - accuracy: 0.6019\n",
      "Epoch 51/200\n",
      "1030/1030 [==============================] - 0s 102us/step - loss: 0.6462 - accuracy: 0.6039\n",
      "Epoch 52/200\n",
      "1030/1030 [==============================] - 0s 101us/step - loss: 0.6468 - accuracy: 0.6010\n",
      "Epoch 53/200\n",
      "1030/1030 [==============================] - 0s 97us/step - loss: 0.6457 - accuracy: 0.6136\n",
      "Epoch 54/200\n",
      "1030/1030 [==============================] - 0s 91us/step - loss: 0.6455 - accuracy: 0.6049\n",
      "Epoch 55/200\n",
      "1030/1030 [==============================] - 0s 89us/step - loss: 0.6454 - accuracy: 0.6078\n",
      "Epoch 56/200\n",
      "1030/1030 [==============================] - 0s 90us/step - loss: 0.6455 - accuracy: 0.6058\n",
      "Epoch 57/200\n",
      "1030/1030 [==============================] - 0s 91us/step - loss: 0.6466 - accuracy: 0.6146\n",
      "Epoch 58/200\n",
      "1030/1030 [==============================] - 0s 93us/step - loss: 0.6450 - accuracy: 0.6107\n",
      "Epoch 59/200\n",
      "1030/1030 [==============================] - 0s 95us/step - loss: 0.6453 - accuracy: 0.6029\n",
      "Epoch 60/200\n",
      "1030/1030 [==============================] - 0s 100us/step - loss: 0.6454 - accuracy: 0.6049\n",
      "Epoch 61/200\n",
      "1030/1030 [==============================] - 0s 101us/step - loss: 0.6452 - accuracy: 0.6155\n",
      "Epoch 62/200\n",
      "1030/1030 [==============================] - 0s 98us/step - loss: 0.6451 - accuracy: 0.6068\n",
      "Epoch 63/200\n",
      "1030/1030 [==============================] - 0s 87us/step - loss: 0.6443 - accuracy: 0.6039\n",
      "Epoch 64/200\n",
      "1030/1030 [==============================] - 0s 92us/step - loss: 0.6461 - accuracy: 0.5942\n",
      "Epoch 65/200\n",
      "1030/1030 [==============================] - 0s 89us/step - loss: 0.6443 - accuracy: 0.6068\n",
      "Epoch 66/200\n",
      "1030/1030 [==============================] - 0s 92us/step - loss: 0.6454 - accuracy: 0.6058\n",
      "Epoch 67/200\n",
      "1030/1030 [==============================] - 0s 94us/step - loss: 0.6449 - accuracy: 0.6117\n",
      "Epoch 68/200\n",
      "1030/1030 [==============================] - 0s 104us/step - loss: 0.6446 - accuracy: 0.6039\n",
      "Epoch 69/200\n",
      "1030/1030 [==============================] - 0s 98us/step - loss: 0.6446 - accuracy: 0.6039\n",
      "Epoch 70/200\n",
      "1030/1030 [==============================] - 0s 98us/step - loss: 0.6453 - accuracy: 0.6078\n",
      "Epoch 71/200\n",
      "1030/1030 [==============================] - 0s 101us/step - loss: 0.6448 - accuracy: 0.6117\n",
      "Epoch 72/200\n",
      "1030/1030 [==============================] - 0s 90us/step - loss: 0.6457 - accuracy: 0.6068\n",
      "Epoch 73/200\n",
      "1030/1030 [==============================] - 0s 88us/step - loss: 0.6456 - accuracy: 0.6049\n",
      "Epoch 74/200\n",
      "1030/1030 [==============================] - 0s 100us/step - loss: 0.6447 - accuracy: 0.6078\n",
      "Epoch 75/200\n",
      "1030/1030 [==============================] - 0s 93us/step - loss: 0.6448 - accuracy: 0.6078\n",
      "Epoch 76/200\n",
      "1030/1030 [==============================] - 0s 94us/step - loss: 0.6447 - accuracy: 0.6049\n",
      "Epoch 77/200\n",
      "1030/1030 [==============================] - 0s 97us/step - loss: 0.6451 - accuracy: 0.6087\n",
      "Epoch 78/200\n",
      "1030/1030 [==============================] - 0s 99us/step - loss: 0.6442 - accuracy: 0.6097\n",
      "Epoch 79/200\n",
      "1030/1030 [==============================] - 0s 98us/step - loss: 0.6456 - accuracy: 0.6136\n",
      "Epoch 80/200\n",
      "1030/1030 [==============================] - 0s 94us/step - loss: 0.6456 - accuracy: 0.6058\n",
      "Epoch 81/200\n",
      "1030/1030 [==============================] - 0s 95us/step - loss: 0.6457 - accuracy: 0.6058\n",
      "Epoch 82/200\n",
      "1030/1030 [==============================] - 0s 98us/step - loss: 0.6455 - accuracy: 0.6039\n",
      "Epoch 83/200\n",
      "1030/1030 [==============================] - 0s 97us/step - loss: 0.6448 - accuracy: 0.5990\n",
      "Epoch 84/200\n",
      "1030/1030 [==============================] - 0s 94us/step - loss: 0.6445 - accuracy: 0.6136\n",
      "Epoch 85/200\n",
      "1030/1030 [==============================] - 0s 95us/step - loss: 0.6453 - accuracy: 0.6039\n",
      "Epoch 86/200\n",
      "1030/1030 [==============================] - 0s 92us/step - loss: 0.6451 - accuracy: 0.6087\n",
      "Epoch 87/200\n",
      "1030/1030 [==============================] - 0s 93us/step - loss: 0.6456 - accuracy: 0.6068\n",
      "Epoch 88/200\n",
      "1030/1030 [==============================] - 0s 90us/step - loss: 0.6442 - accuracy: 0.6058\n",
      "Epoch 89/200\n",
      "1030/1030 [==============================] - 0s 96us/step - loss: 0.6450 - accuracy: 0.6078\n",
      "Epoch 90/200\n",
      "1030/1030 [==============================] - 0s 98us/step - loss: 0.6444 - accuracy: 0.6058\n",
      "Epoch 91/200\n",
      "1030/1030 [==============================] - 0s 98us/step - loss: 0.6447 - accuracy: 0.6029\n",
      "Epoch 92/200\n",
      "1030/1030 [==============================] - 0s 91us/step - loss: 0.6465 - accuracy: 0.6097\n",
      "Epoch 93/200\n",
      "1030/1030 [==============================] - 0s 101us/step - loss: 0.6458 - accuracy: 0.6049\n",
      "Epoch 94/200\n",
      "1030/1030 [==============================] - 0s 100us/step - loss: 0.6446 - accuracy: 0.6068\n",
      "Epoch 95/200\n",
      "1030/1030 [==============================] - 0s 94us/step - loss: 0.6443 - accuracy: 0.6078\n",
      "Epoch 96/200\n",
      "1030/1030 [==============================] - 0s 95us/step - loss: 0.6450 - accuracy: 0.6058\n",
      "Epoch 97/200\n",
      "1030/1030 [==============================] - 0s 98us/step - loss: 0.6445 - accuracy: 0.6097\n",
      "Epoch 98/200\n",
      "1030/1030 [==============================] - 0s 95us/step - loss: 0.6445 - accuracy: 0.6058\n",
      "Epoch 99/200\n",
      "1030/1030 [==============================] - 0s 95us/step - loss: 0.6444 - accuracy: 0.6126\n",
      "Epoch 100/200\n",
      "1030/1030 [==============================] - 0s 100us/step - loss: 0.6438 - accuracy: 0.6068\n",
      "Epoch 101/200\n",
      "1030/1030 [==============================] - 0s 98us/step - loss: 0.6443 - accuracy: 0.5990\n",
      "Epoch 102/200\n",
      "1030/1030 [==============================] - 0s 92us/step - loss: 0.6446 - accuracy: 0.6087\n",
      "Epoch 103/200\n",
      "1030/1030 [==============================] - 0s 97us/step - loss: 0.6442 - accuracy: 0.6146\n",
      "Epoch 104/200\n",
      "1030/1030 [==============================] - 0s 94us/step - loss: 0.6447 - accuracy: 0.6068\n",
      "Epoch 105/200\n",
      "1030/1030 [==============================] - 0s 97us/step - loss: 0.6446 - accuracy: 0.6136\n",
      "Epoch 106/200\n",
      "1030/1030 [==============================] - 0s 97us/step - loss: 0.6442 - accuracy: 0.6068\n",
      "Epoch 107/200\n",
      "1030/1030 [==============================] - 0s 103us/step - loss: 0.6450 - accuracy: 0.6029\n",
      "Epoch 108/200\n",
      "1030/1030 [==============================] - 0s 91us/step - loss: 0.6441 - accuracy: 0.6068\n",
      "Epoch 109/200\n",
      "1030/1030 [==============================] - 0s 94us/step - loss: 0.6442 - accuracy: 0.6126\n",
      "Epoch 110/200\n",
      "1030/1030 [==============================] - 0s 91us/step - loss: 0.6440 - accuracy: 0.6097\n",
      "Epoch 111/200\n",
      "1030/1030 [==============================] - 0s 92us/step - loss: 0.6437 - accuracy: 0.6078\n",
      "Epoch 112/200\n",
      "1030/1030 [==============================] - 0s 100us/step - loss: 0.6444 - accuracy: 0.6078\n",
      "Epoch 113/200\n",
      "1030/1030 [==============================] - 0s 96us/step - loss: 0.6450 - accuracy: 0.6068\n",
      "Epoch 114/200\n",
      "1030/1030 [==============================] - 0s 99us/step - loss: 0.6449 - accuracy: 0.6087\n",
      "Epoch 115/200\n",
      "1030/1030 [==============================] - 0s 102us/step - loss: 0.6444 - accuracy: 0.6019\n",
      "Epoch 116/200\n",
      "1030/1030 [==============================] - 0s 92us/step - loss: 0.6441 - accuracy: 0.6107\n",
      "Epoch 117/200\n",
      "1030/1030 [==============================] - 0s 88us/step - loss: 0.6443 - accuracy: 0.6068\n",
      "Epoch 118/200\n",
      "1030/1030 [==============================] - 0s 103us/step - loss: 0.6447 - accuracy: 0.6068\n",
      "Epoch 119/200\n",
      "1030/1030 [==============================] - 0s 100us/step - loss: 0.6435 - accuracy: 0.6087\n",
      "Epoch 120/200\n",
      "1030/1030 [==============================] - 0s 99us/step - loss: 0.6462 - accuracy: 0.5981\n",
      "Epoch 121/200\n",
      "1030/1030 [==============================] - 0s 96us/step - loss: 0.6448 - accuracy: 0.6039\n",
      "Epoch 122/200\n",
      "1030/1030 [==============================] - 0s 94us/step - loss: 0.6440 - accuracy: 0.6039\n",
      "Epoch 123/200\n",
      "1030/1030 [==============================] - 0s 94us/step - loss: 0.6438 - accuracy: 0.6107\n",
      "Epoch 124/200\n",
      "1030/1030 [==============================] - 0s 96us/step - loss: 0.6438 - accuracy: 0.6010\n",
      "Epoch 125/200\n",
      "1030/1030 [==============================] - 0s 98us/step - loss: 0.6439 - accuracy: 0.6087\n",
      "Epoch 126/200\n",
      "1030/1030 [==============================] - 0s 106us/step - loss: 0.6447 - accuracy: 0.6010\n",
      "Epoch 127/200\n",
      "1030/1030 [==============================] - 0s 98us/step - loss: 0.6440 - accuracy: 0.6049\n",
      "Epoch 128/200\n",
      "1030/1030 [==============================] - 0s 93us/step - loss: 0.6429 - accuracy: 0.6107\n",
      "Epoch 129/200\n",
      "1030/1030 [==============================] - 0s 94us/step - loss: 0.6440 - accuracy: 0.6136\n",
      "Epoch 130/200\n",
      "1030/1030 [==============================] - 0s 99us/step - loss: 0.6444 - accuracy: 0.6029\n",
      "Epoch 131/200\n",
      "1030/1030 [==============================] - 0s 99us/step - loss: 0.6447 - accuracy: 0.6107\n",
      "Epoch 132/200\n",
      "1030/1030 [==============================] - 0s 99us/step - loss: 0.6439 - accuracy: 0.6049\n",
      "Epoch 133/200\n",
      "1030/1030 [==============================] - 0s 96us/step - loss: 0.6424 - accuracy: 0.6146\n",
      "Epoch 134/200\n",
      "1030/1030 [==============================] - 0s 90us/step - loss: 0.6453 - accuracy: 0.6146\n",
      "Epoch 135/200\n",
      "1030/1030 [==============================] - 0s 92us/step - loss: 0.6440 - accuracy: 0.6117\n",
      "Epoch 136/200\n",
      "1030/1030 [==============================] - 0s 96us/step - loss: 0.6434 - accuracy: 0.6087\n",
      "Epoch 137/200\n",
      "1030/1030 [==============================] - 0s 97us/step - loss: 0.6448 - accuracy: 0.6107\n",
      "Epoch 138/200\n",
      "1030/1030 [==============================] - 0s 103us/step - loss: 0.6439 - accuracy: 0.6029\n",
      "Epoch 139/200\n",
      "1030/1030 [==============================] - 0s 94us/step - loss: 0.6434 - accuracy: 0.6146\n",
      "Epoch 140/200\n",
      "1030/1030 [==============================] - 0s 92us/step - loss: 0.6451 - accuracy: 0.6010\n",
      "Epoch 141/200\n",
      "1030/1030 [==============================] - 0s 95us/step - loss: 0.6441 - accuracy: 0.6165\n",
      "Epoch 142/200\n",
      "1030/1030 [==============================] - 0s 93us/step - loss: 0.6447 - accuracy: 0.6097\n",
      "Epoch 143/200\n",
      "1030/1030 [==============================] - 0s 97us/step - loss: 0.6432 - accuracy: 0.6078\n",
      "Epoch 144/200\n",
      "1030/1030 [==============================] - 0s 97us/step - loss: 0.6423 - accuracy: 0.6078\n",
      "Epoch 145/200\n",
      "1030/1030 [==============================] - 0s 95us/step - loss: 0.6441 - accuracy: 0.5990\n",
      "Epoch 146/200\n",
      "1030/1030 [==============================] - 0s 96us/step - loss: 0.6438 - accuracy: 0.6107\n",
      "Epoch 147/200\n",
      "1030/1030 [==============================] - 0s 96us/step - loss: 0.6435 - accuracy: 0.6029\n",
      "Epoch 148/200\n",
      "1030/1030 [==============================] - 0s 110us/step - loss: 0.6433 - accuracy: 0.6068\n",
      "Epoch 149/200\n",
      "1030/1030 [==============================] - 0s 95us/step - loss: 0.6440 - accuracy: 0.6078\n",
      "Epoch 150/200\n",
      "1030/1030 [==============================] - 0s 94us/step - loss: 0.6432 - accuracy: 0.6000\n",
      "Epoch 151/200\n",
      "1030/1030 [==============================] - 0s 93us/step - loss: 0.6433 - accuracy: 0.6117\n",
      "Epoch 152/200\n",
      "1030/1030 [==============================] - 0s 95us/step - loss: 0.6427 - accuracy: 0.6058\n",
      "Epoch 153/200\n",
      "1030/1030 [==============================] - 0s 97us/step - loss: 0.6423 - accuracy: 0.6049\n",
      "Epoch 154/200\n",
      "1030/1030 [==============================] - 0s 94us/step - loss: 0.6441 - accuracy: 0.6049\n",
      "Epoch 155/200\n"
     ]
    },
    {
     "name": "stdout",
     "output_type": "stream",
     "text": [
      "1030/1030 [==============================] - 0s 93us/step - loss: 0.6438 - accuracy: 0.5961\n",
      "Epoch 156/200\n",
      "1030/1030 [==============================] - 0s 95us/step - loss: 0.6430 - accuracy: 0.6087\n",
      "Epoch 157/200\n",
      "1030/1030 [==============================] - 0s 93us/step - loss: 0.6428 - accuracy: 0.6068\n",
      "Epoch 158/200\n",
      "1030/1030 [==============================] - 0s 96us/step - loss: 0.6423 - accuracy: 0.6146\n",
      "Epoch 159/200\n",
      "1030/1030 [==============================] - 0s 94us/step - loss: 0.6432 - accuracy: 0.6058\n",
      "Epoch 160/200\n",
      "1030/1030 [==============================] - 0s 95us/step - loss: 0.6430 - accuracy: 0.6049\n",
      "Epoch 161/200\n",
      "1030/1030 [==============================] - 0s 92us/step - loss: 0.6428 - accuracy: 0.6058\n",
      "Epoch 162/200\n",
      "1030/1030 [==============================] - 0s 92us/step - loss: 0.6430 - accuracy: 0.6029\n",
      "Epoch 163/200\n",
      "1030/1030 [==============================] - 0s 93us/step - loss: 0.6426 - accuracy: 0.6068\n",
      "Epoch 164/200\n",
      "1030/1030 [==============================] - 0s 99us/step - loss: 0.6422 - accuracy: 0.6029\n",
      "Epoch 165/200\n",
      "1030/1030 [==============================] - 0s 95us/step - loss: 0.6432 - accuracy: 0.6010\n",
      "Epoch 166/200\n",
      "1030/1030 [==============================] - 0s 98us/step - loss: 0.6431 - accuracy: 0.6107\n",
      "Epoch 167/200\n",
      "1030/1030 [==============================] - 0s 93us/step - loss: 0.6433 - accuracy: 0.5971\n",
      "Epoch 168/200\n",
      "1030/1030 [==============================] - 0s 95us/step - loss: 0.6429 - accuracy: 0.6126\n",
      "Epoch 169/200\n",
      "1030/1030 [==============================] - 0s 95us/step - loss: 0.6426 - accuracy: 0.6019\n",
      "Epoch 170/200\n",
      "1030/1030 [==============================] - 0s 95us/step - loss: 0.6425 - accuracy: 0.6039\n",
      "Epoch 171/200\n",
      "1030/1030 [==============================] - 0s 98us/step - loss: 0.6421 - accuracy: 0.6126\n",
      "Epoch 172/200\n",
      "1030/1030 [==============================] - 0s 96us/step - loss: 0.6432 - accuracy: 0.6039\n",
      "Epoch 173/200\n",
      "1030/1030 [==============================] - 0s 91us/step - loss: 0.6426 - accuracy: 0.6029\n",
      "Epoch 174/200\n",
      "1030/1030 [==============================] - 0s 91us/step - loss: 0.6428 - accuracy: 0.6019\n",
      "Epoch 175/200\n",
      "1030/1030 [==============================] - 0s 93us/step - loss: 0.6430 - accuracy: 0.6039\n",
      "Epoch 176/200\n",
      "1030/1030 [==============================] - 0s 99us/step - loss: 0.6429 - accuracy: 0.6058\n",
      "Epoch 177/200\n",
      "1030/1030 [==============================] - 0s 102us/step - loss: 0.6427 - accuracy: 0.6039\n",
      "Epoch 178/200\n",
      "1030/1030 [==============================] - 0s 92us/step - loss: 0.6428 - accuracy: 0.5971\n",
      "Epoch 179/200\n",
      "1030/1030 [==============================] - 0s 94us/step - loss: 0.6423 - accuracy: 0.6029\n",
      "Epoch 180/200\n",
      "1030/1030 [==============================] - 0s 94us/step - loss: 0.6434 - accuracy: 0.6019\n",
      "Epoch 181/200\n",
      "1030/1030 [==============================] - 0s 96us/step - loss: 0.6420 - accuracy: 0.6058\n",
      "Epoch 182/200\n",
      "1030/1030 [==============================] - 0s 95us/step - loss: 0.6422 - accuracy: 0.6155\n",
      "Epoch 183/200\n",
      "1030/1030 [==============================] - 0s 98us/step - loss: 0.6427 - accuracy: 0.6146\n",
      "Epoch 184/200\n",
      "1030/1030 [==============================] - 0s 91us/step - loss: 0.6432 - accuracy: 0.6039\n",
      "Epoch 185/200\n",
      "1030/1030 [==============================] - 0s 94us/step - loss: 0.6422 - accuracy: 0.6136\n",
      "Epoch 186/200\n",
      "1030/1030 [==============================] - 0s 96us/step - loss: 0.6428 - accuracy: 0.6000\n",
      "Epoch 187/200\n",
      "1030/1030 [==============================] - 0s 90us/step - loss: 0.6418 - accuracy: 0.6087\n",
      "Epoch 188/200\n",
      "1030/1030 [==============================] - 0s 95us/step - loss: 0.6424 - accuracy: 0.6068\n",
      "Epoch 189/200\n",
      "1030/1030 [==============================] - 0s 94us/step - loss: 0.6437 - accuracy: 0.6049\n",
      "Epoch 190/200\n",
      "1030/1030 [==============================] - 0s 93us/step - loss: 0.6430 - accuracy: 0.6068\n",
      "Epoch 191/200\n",
      "1030/1030 [==============================] - 0s 92us/step - loss: 0.6425 - accuracy: 0.6107\n",
      "Epoch 192/200\n",
      "1030/1030 [==============================] - 0s 93us/step - loss: 0.6417 - accuracy: 0.6029\n",
      "Epoch 193/200\n",
      "1030/1030 [==============================] - 0s 93us/step - loss: 0.6422 - accuracy: 0.6087\n",
      "Epoch 194/200\n",
      "1030/1030 [==============================] - 0s 97us/step - loss: 0.6430 - accuracy: 0.6049\n",
      "Epoch 195/200\n",
      "1030/1030 [==============================] - 0s 100us/step - loss: 0.6418 - accuracy: 0.6058\n",
      "Epoch 196/200\n",
      "1030/1030 [==============================] - 0s 94us/step - loss: 0.6438 - accuracy: 0.6029\n",
      "Epoch 197/200\n",
      "1030/1030 [==============================] - 0s 93us/step - loss: 0.6421 - accuracy: 0.6019\n",
      "Epoch 198/200\n",
      "1030/1030 [==============================] - 0s 95us/step - loss: 0.6420 - accuracy: 0.6097\n",
      "Epoch 199/200\n",
      "1030/1030 [==============================] - 0s 92us/step - loss: 0.6420 - accuracy: 0.6019\n",
      "Epoch 200/200\n",
      "1030/1030 [==============================] - 0s 98us/step - loss: 0.6417 - accuracy: 0.6058\n",
      "dict_keys(['loss', 'accuracy'])\n"
     ]
    },
    {
     "data": {
      "image/png": "[encoded data removed]",
      "text/plain": [
       "<Figure size 432x288 with 1 Axes>"
      ]
     },
     "metadata": {
      "needs_background": "light"
     },
     "output_type": "display_data"
    }
   ],
   "source": [
    "history = classifier.fit(X_train, y_train, epochs=200, batch_size=10)\n",
    "# list all data in history\n",
    "print(history.history.keys())\n",
    "# summarize history for accuracy\n",
    "plt.plot(history.history['accuracy'])\n",
    "plt.title('model accuracy')\n",
    "plt.ylabel('accuracy')\n",
    "plt.xlabel('epoch')\n",
    "plt.legend(['train', 'test'], loc='upper left')\n",
    "plt.show()"
   ]
  },
  {
   "cell_type": "code",
   "execution_count": 827,
   "metadata": {},
   "outputs": [
    {
     "name": "stderr",
     "output_type": "stream",
     "text": [
      "/Users/jaeheukjung/opt/anaconda3/lib/python3.7/site-packages/sklearn/ensemble/forest.py:245: FutureWarning: The default value of n_estimators will change from 10 in version 0.20 to 100 in 0.22.\n",
      "  \"10 in version 0.20 to 100 in 0.22.\", FutureWarning)\n"
     ]
    }
   ],
   "source": [
    "from sklearn import model_selection\n",
    "from sklearn.ensemble import RandomForestClassifier\n",
    "# random forest model creation\n",
    "rfc = RandomForestClassifier()\n",
    "rfc.fit(X_train,y_train)\n",
    "# predictions\n",
    "rfc_predict = rfc.predict(X_test)"
   ]
  },
  {
   "cell_type": "code",
   "execution_count": 823,
   "metadata": {},
   "outputs": [],
   "source": [
    "from sklearn.model_selection import cross_val_score\n",
    "from sklearn.metrics import classification_report, confusion_matrix"
   ]
  },
  {
   "cell_type": "code",
   "execution_count": 830,
   "metadata": {},
   "outputs": [],
   "source": [
    "rfc_cv_score = cross_val_score(rfc, X, y, cv=15)"
   ]
  },
  {
   "cell_type": "code",
   "execution_count": 831,
   "metadata": {},
   "outputs": [
    {
     "name": "stdout",
     "output_type": "stream",
     "text": [
      "=== Confusion Matrix ===\n",
      "[[95 22]\n",
      " [68 32]]\n",
      "\n",
      "\n",
      "=== Classification Report ===\n",
      "              precision    recall  f1-score   support\n",
      "\n",
      "           0       0.58      0.81      0.68       117\n",
      "           1       0.59      0.32      0.42       100\n",
      "\n",
      "    accuracy                           0.59       217\n",
      "   macro avg       0.59      0.57      0.55       217\n",
      "weighted avg       0.59      0.59      0.56       217\n",
      "\n",
      "\n",
      "\n",
      "=== All AUC Scores ===\n",
      "[0.53424658 0.45205479 0.50684932 0.60273973 0.61643836 0.61111111\n",
      " 0.65277778 0.58333333 0.66666667 0.58333333 0.55555556 0.66666667\n",
      " 0.625      0.51388889 0.54166667]\n",
      "\n",
      "\n",
      "=== Mean AUC Score ===\n",
      "Mean AUC Score - Random Forest:  0.5808219178082191\n"
     ]
    }
   ],
   "source": [
    "print(\"=== Confusion Matrix ===\")\n",
    "print(confusion_matrix(y_test, rfc_predict))\n",
    "print('\\n')\n",
    "print(\"=== Classification Report ===\")\n",
    "print(classification_report(y_test, rfc_predict))\n",
    "print('\\n')\n",
    "print(\"=== All AUC Scores ===\")\n",
    "print(rfc_cv_score)\n",
    "print('\\n')\n",
    "print(\"=== Mean AUC Score ===\")\n",
    "print(\"Mean AUC Score - Random Forest: \", rfc_cv_score.mean())"
   ]
  }
 ],
 "metadata": {
  "kernelspec": {
   "display_name": "Python 3",
   "language": "python",
   "name": "python3"
  },
  "language_info": {
   "codemirror_mode": {
    "name": "ipython",
    "version": 3
   },
   "file_extension": ".py",
   "mimetype": "text/x-python",
   "name": "python",
   "nbconvert_exporter": "python",
   "pygments_lexer": "ipython3",
   "version": "3.7.4"
  },
  "widgets": {
   "application/vnd.jupyter.widget-state+json": {
    "state": {},
    "version_major": 2,
    "version_minor": 0
   }
  }
 },
 "nbformat": 4,
 "nbformat_minor": 2
}
